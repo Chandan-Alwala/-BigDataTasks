{
 "cells": [
  {
   "cell_type": "code",
   "execution_count": null,
   "metadata": {
    "application/vnd.databricks.v1+cell": {
     "cellMetadata": {
      "byteLimit": 2048000,
      "rowLimit": 10000
     },
     "inputWidgets": {},
     "nuid": "38a9e5b0-1dc0-42cb-9c5e-0f5c8c01a086",
     "showTitle": false,
     "title": ""
    }
   },
   "outputs": [],
   "source": [
    "!pip install nltk\n",
    "from pyspark.sql import SparkSession\n",
    "sc = SparkSession.builder.appName(\"DataFrames\").getOrCreate()"
   ]
  },
  {
   "cell_type": "code",
   "execution_count": null,
   "metadata": {
    "application/vnd.databricks.v1+cell": {
     "cellMetadata": {
      "byteLimit": 2048000,
      "rowLimit": 10000
     },
     "inputWidgets": {},
     "nuid": "245b47b9-707c-4d38-9898-d9cc11fdea2c",
     "showTitle": false,
     "title": ""
    }
   },
   "outputs": [],
   "source": [
    "from math import log\n",
    "import nltk\n",
    "from nltk.corpus import stopwords\n",
    "nltk.download('stopwords')\n",
    "stopwords = set(stopwords.words(\"english\"))"
   ]
  },
  {
   "cell_type": "code",
   "execution_count": null,
   "metadata": {
    "application/vnd.databricks.v1+cell": {
     "cellMetadata": {
      "byteLimit": 2048000,
      "rowLimit": 10000
     },
     "inputWidgets": {},
     "nuid": "2fcee413-136f-43e9-a351-330394a4de42",
     "showTitle": false,
     "title": ""
    }
   },
   "outputs": [],
   "source": [
    "def frequency(x):\n",
    "    words = x[1]\n",
    "    l = []\n",
    "    for s in words:\n",
    "        if len(s)>2 and s.lower() not in stopwords:\n",
    "            l.append(((x[0],s.lower()),1))\n",
    "    return l"
   ]
  },
  {
   "cell_type": "code",
   "execution_count": null,
   "metadata": {
    "application/vnd.databricks.v1+cell": {
     "cellMetadata": {
      "byteLimit": 2048000,
      "rowLimit": 10000
     },
     "inputWidgets": {},
     "nuid": "08859e46-8954-4d8d-b71a-17c4d34cbf0a",
     "showTitle": false,
     "title": ""
    }
   },
   "outputs": [],
   "source": [
    "def termFrequency(term,plot_summary):\n",
    "    word_frequencies = plot_summary.filter(lambda x: word in x[1]).map(lambda x: (x[0], x[1][word]))\n",
    "    return word_frequencies"
   ]
  },
  {
   "cell_type": "code",
   "execution_count": null,
   "metadata": {
    "application/vnd.databricks.v1+cell": {
     "cellMetadata": {
      "byteLimit": 2048000,
      "rowLimit": 10000
     },
     "inputWidgets": {},
     "nuid": "02fb8759-debe-4eeb-aaa6-c4a0efb4fabd",
     "showTitle": false,
     "title": ""
    }
   },
   "outputs": [],
   "source": [
    "def idf(term,plot_summary):\n",
    "    count = plot_summary.filter(lambda x: word in x[0][1]).count()\n",
    "    if count != 0:\n",
    "        return log(N/count)\n",
    "    else: \n",
    "        return 1"
   ]
  },
  {
   "cell_type": "code",
   "execution_count": null,
   "metadata": {
    "application/vnd.databricks.v1+cell": {
     "cellMetadata": {
      "byteLimit": 2048000,
      "rowLimit": 10000
     },
     "inputWidgets": {},
     "nuid": "f6a5d7d3-f7ad-47ef-8cc2-786228f2634b",
     "showTitle": false,
     "title": ""
    }
   },
   "outputs": [],
   "source": [
    "def tfIdf(term,plot_summary):\n",
    "    tfValue = plot_summary.filter(lambda x: term in x[0][1]).map(lambda x: (x[0][0], x[1]))\n",
    "    idfValue = plot_summary.filter(lambda x: term in x[0][1]).count()\n",
    "    tfIdfValue = tfValue.map(lambda x: (x[0],x[1]*log(N/idfValue)))\n",
    "    return tfIdfValue"
   ]
  },
  {
   "cell_type": "code",
   "execution_count": null,
   "metadata": {
    "application/vnd.databricks.v1+cell": {
     "cellMetadata": {
      "byteLimit": 2048000,
      "rowLimit": 10000
     },
     "inputWidgets": {},
     "nuid": "4e5b356b-e37b-41d7-a60b-92922a2caf69",
     "showTitle": false,
     "title": ""
    }
   },
   "outputs": [],
   "source": [
    "plot_summary = sc.textFile('/FileStore/tables/plot_summaries.txt')"
   ]
  },
  {
   "cell_type": "code",
   "execution_count": null,
   "metadata": {
    "application/vnd.databricks.v1+cell": {
     "cellMetadata": {
      "byteLimit": 2048000,
      "rowLimit": 10000
     },
     "inputWidgets": {},
     "nuid": "17d0d1ad-1000-4aa4-840e-387bc3fa4cd1",
     "showTitle": false,
     "title": ""
    }
   },
   "outputs": [
    {
     "name": "stdout",
     "output_type": "stream",
     "text": [
      "42306\n"
     ]
    }
   ],
   "source": [
    "N = plot_summary.count()\n",
    "print(N)"
   ]
  },
  {
   "cell_type": "code",
   "execution_count": null,
   "metadata": {
    "application/vnd.databricks.v1+cell": {
     "cellMetadata": {
      "byteLimit": 2048000,
      "rowLimit": 10000
     },
     "inputWidgets": {},
     "nuid": "373748e0-2822-4e0b-809d-4bd58454f724",
     "showTitle": false,
     "title": ""
    }
   },
   "outputs": [],
   "source": [
    "# Preprocess the data\n",
    "plot_summary = plot_summary.map(lambda x: x.split('\\t'))\n",
    "plot_summary = plot_summary.map(lambda x: (x[0],x[1].replace(',','').replace('.','').replace('?','').replace('\\\"','').lower().split(' ')))"
   ]
  },
  {
   "cell_type": "code",
   "execution_count": null,
   "metadata": {
    "application/vnd.databricks.v1+cell": {
     "cellMetadata": {
      "byteLimit": 2048000,
      "rowLimit": 10000
     },
     "inputWidgets": {},
     "nuid": "2dc4a812-4b24-41a4-8118-79445c59f114",
     "showTitle": false,
     "title": ""
    }
   },
   "outputs": [],
   "source": [
    "plot_summary = plot_summary.flatMap(frequency).reduceByKey(lambda x,y: x+y)"
   ]
  },
  {
   "cell_type": "code",
   "execution_count": null,
   "metadata": {
    "application/vnd.databricks.v1+cell": {
     "cellMetadata": {
      "byteLimit": 2048000,
      "rowLimit": 10000
     },
     "inputWidgets": {},
     "nuid": "d2a6bfcd-7ad1-4a0b-8fe3-7a6d32a85dd1",
     "showTitle": false,
     "title": ""
    }
   },
   "outputs": [],
   "source": [
    "# Read movie metadata into DataFrame\n",
    "movieDf = sc.read.options(delimiter='\\t').csv('/FileStore/tables/movie_metadata.tsv')\n",
    "movieDf = movieDf.withColumnRenamed(\"_c2\",\"movieName\").withColumnRenamed(\"_c0\",\"movieId\")\n",
    "headers = ['movieId','tfIdf']"
   ]
  },
  {
   "cell_type": "code",
   "execution_count": null,
   "metadata": {
    "application/vnd.databricks.v1+cell": {
     "cellMetadata": {
      "byteLimit": 2048000,
      "rowLimit": 10000
     },
     "inputWidgets": {},
     "nuid": "bf47dead-85e6-4555-832c-6e30bed7f6b1",
     "showTitle": false,
     "title": ""
    }
   },
   "outputs": [
    {
     "name": "stdout",
     "output_type": "stream",
     "text": [
      "['Romance', 'Thriller', 'Revenge', 'Horror', 'Comedy']\n"
     ]
    }
   ],
   "source": [
    "terms = sc.textFile('/FileStore/tables/singletermsearch-5.txt')\n",
    "print(terms.collect())"
   ]
  },
  {
   "cell_type": "code",
   "execution_count": null,
   "metadata": {
    "application/vnd.databricks.v1+cell": {
     "cellMetadata": {
      "byteLimit": 2048000,
      "rowLimit": 10000
     },
     "inputWidgets": {},
     "nuid": "1ee8a073-8dbd-475b-8e0f-5ee4487e0eb2",
     "showTitle": false,
     "title": ""
    }
   },
   "outputs": [
    {
     "name": "stdout",
     "output_type": "stream",
     "text": [
      "romance\n",
      "+------------------------------+------------------+\n",
      "|movieName                     |tfIdf             |\n",
      "+------------------------------+------------------+\n",
      "|4 Romance                     |18.122413834445457|\n",
      "|Dragon                        |14.497931067556365|\n",
      "|The Great Outdoors            |14.497931067556365|\n",
      "|The Congress Dances           |10.873448300667274|\n",
      "|Black Death                   |10.873448300667274|\n",
      "|The manor of Araucaima        |10.873448300667274|\n",
      "|Beyond the Valley of the Dolls|10.873448300667274|\n",
      "|The English Patient           |10.873448300667274|\n",
      "|Second Fiddle                 |10.873448300667274|\n",
      "|The Ghosts of Girlfriends Past|10.873448300667274|\n",
      "+------------------------------+------------------+\n",
      "\n",
      "thriller\n",
      "+--------------------------------------------+------------------+\n",
      "|movieName                                   |tfIdf             |\n",
      "+--------------------------------------------+------------------+\n",
      "|Godfather                                   |11.407848617137855|\n",
      "|Man In The Mirror: The Michael Jackson Story|11.407848617137855|\n",
      "|Kyun Tum Say Itna Pyar Hai                  |11.407848617137855|\n",
      "|ANG PAMANA                                  |5.7039243085689275|\n",
      "|Parakrami                                   |5.7039243085689275|\n",
      "|Houseboat Horror                            |5.7039243085689275|\n",
      "|Galiyon Ka Badshah                          |5.7039243085689275|\n",
      "|Caravan                                     |5.7039243085689275|\n",
      "|The Red Robin                               |5.7039243085689275|\n",
      "|Horrors of the Black Museum                 |5.7039243085689275|\n",
      "+--------------------------------------------+------------------+\n",
      "\n",
      "revenge\n",
      "+-------------------------+------------------+\n",
      "|movieName                |tfIdf             |\n",
      "+-------------------------+------------------+\n",
      "|North and South          |22.826726405849403|\n",
      "|Mission Kashmir          |17.120044804387053|\n",
      "|Baiju Bawra              |14.266704003655876|\n",
      "|Titus                    |14.266704003655876|\n",
      "|Kill Bill Volume 1       |14.266704003655876|\n",
      "|The Crippled Masters     |11.413363202924701|\n",
      "|Puppet Master: The Legacy|11.413363202924701|\n",
      "|Nasibo                   |11.413363202924701|\n",
      "|Bella Mafia              |11.413363202924701|\n",
      "|The Count of Monte Cristo|11.413363202924701|\n",
      "+-------------------------+------------------+\n",
      "\n",
      "horror\n",
      "+------------------------+------------------+\n",
      "|movieName               |tfIdf             |\n",
      "+------------------------+------------------+\n",
      "|Garo: Red Requiem       |35.294994886185115|\n",
      "|Garo: Red Requiem       |19.608330492325063|\n",
      "|The Last Horror Film    |19.608330492325063|\n",
      "|The Pagemaster          |19.608330492325063|\n",
      "|The Pit and the Pendulum|15.68666439386005 |\n",
      "|Kiba Gaiden             |15.68666439386005 |\n",
      "|Microwave Massacre      |15.68666439386005 |\n",
      "|Fright Night            |15.68666439386005 |\n",
      "|Kiba Gaiden             |15.68666439386005 |\n",
      "|The Grudge 3            |11.764998295395038|\n",
      "+------------------------+------------------+\n",
      "\n",
      "comedy\n",
      "+------------------------------------+------------------+\n",
      "|movieName                           |tfIdf             |\n",
      "+------------------------------------+------------------+\n",
      "|Where the Truth Lies                |17.200219210510117|\n",
      "|Talkin' Dirty After Dark            |17.200219210510117|\n",
      "|Man on the Moon                     |17.200219210510117|\n",
      "|General Motors 50th Anniversary Show|17.200219210510117|\n",
      "|Hollywood Outlaw Movie              |17.200219210510117|\n",
      "|Mahaul Theek Hai                    |12.900164407882588|\n",
      "|Thousands Cheer                     |12.900164407882588|\n",
      "|Funny Bones                         |12.900164407882588|\n",
      "|Cinta Kura Kura                     |12.900164407882588|\n",
      "|When Stand Up Stood Out             |12.900164407882588|\n",
      "+------------------------------------+------------------+\n",
      "\n"
     ]
    }
   ],
   "source": [
    "terms = terms.collect()\n",
    "for term in terms:\n",
    "    term = term.lower()\n",
    "    tfIdfValue = tfIdf(term,plot_summary)\n",
    "    topMovies = tfIdfValue.sortBy(lambda x: -1*x[1]).take(10)\n",
    "    print(term)\n",
    "    topMoviesRdd = sc.parallelize(topMovies)\n",
    "    topMoviesDf = topMoviesRdd.toDF(headers)\n",
    "    result = movieDf.join(topMoviesDf,topMoviesDf.movieId == movieDf.movieId,\"inner\")\n",
    "    result.select('movieName','tfIdf').show(truncate = False)"
   ]
  },
  {
   "cell_type": "code",
   "execution_count": null,
   "metadata": {
    "application/vnd.databricks.v1+cell": {
     "cellMetadata": {
      "byteLimit": 2048000,
      "rowLimit": 10000
     },
     "inputWidgets": {},
     "nuid": "d9631150-c17a-4378-bfa0-eb8298b81aed",
     "showTitle": false,
     "title": ""
    }
   },
   "outputs": [
    {
     "name": "stdout",
     "output_type": "stream",
     "text": [
      "['Funny movie with action scenes']\n"
     ]
    }
   ],
   "source": [
    "# cosine similarity\n",
    "search_query = sc.textFile('/FileStore/tables/multitermsearch-2.txt')\n",
    "print(search_query.collect())"
   ]
  },
  {
   "cell_type": "code",
   "execution_count": null,
   "metadata": {
    "application/vnd.databricks.v1+cell": {
     "cellMetadata": {
      "byteLimit": 2048000,
      "rowLimit": 10000
     },
     "inputWidgets": {},
     "nuid": "0234bd98-deab-41b9-ad30-232af37635ec",
     "showTitle": false,
     "title": ""
    }
   },
   "outputs": [
    {
     "name": "stdout",
     "output_type": "stream",
     "text": [
      "[('movie', 1), ('action', 1), ('funny', 1), ('with', 1), ('scenes', 1)]\n"
     ]
    }
   ],
   "source": [
    "search_query_words = search_query.flatMap(lambda x: x.split(' ')).map(lambda x: (x.lower(),1)).reduceByKey(lambda x,y:x+y).collect()\n",
    "print(search_query_words)"
   ]
  },
  {
   "cell_type": "code",
   "execution_count": null,
   "metadata": {
    "application/vnd.databricks.v1+cell": {
     "cellMetadata": {
      "byteLimit": 2048000,
      "rowLimit": 10000
     },
     "inputWidgets": {},
     "nuid": "c5aa080a-c228-49d8-a596-deb964fb20d2",
     "showTitle": false,
     "title": ""
    }
   },
   "outputs": [],
   "source": [
    "l = []\n",
    "idfValues = {}\n",
    "for x in search_query_words:\n",
    "    word = x[0]\n",
    "    idfValue = idf(word,plot_summary)\n",
    "    idfValues[word] = idfValue\n",
    "    l.append((word,x[1]*idfValue))\n",
    " \n",
    "searchRdd = sc.parallelize(l)\n",
    " \n",
    "movieRdd = plot_summary.filter(lambda x: x[0][1] in [w[0] for w in search_query_words]).map(lambda x:(x[0][1],(x[0][0],x[1]*idfValues[x[0][1]])))\n",
    "#print(movieRDD.collect())\n",
    " \n",
    "joinedRdd = searchRdd.join(movieRdd)"
   ]
  },
  {
   "cell_type": "code",
   "execution_count": null,
   "metadata": {
    "application/vnd.databricks.v1+cell": {
     "cellMetadata": {
      "byteLimit": 2048000,
      "rowLimit": 10000
     },
     "inputWidgets": {},
     "nuid": "bbe1f38d-5a23-427e-8b60-63b0bdfffe1b",
     "showTitle": false,
     "title": ""
    }
   },
   "outputs": [],
   "source": [
    "from math import sqrt\n",
    "cosineSimilarity = joinedRdd.map(lambda x : (x[1][1][0], (x[1][0] * x[1][1][1], x[1][0] **2, x[1][1][1] **2)))\n",
    "cosineSimilarity = cosineSimilarity.reduceByKey(lambda x,y : ((x[0] + y[0], x[1] + y[1], x[2] + y[2])))\n",
    "cosineSimilarity = cosineSimilarity.map(lambda x : (x[0], 1-x[1][0]/(sqrt(x[1][1]) * sqrt(x[1][2]))))"
   ]
  },
  {
   "cell_type": "code",
   "execution_count": null,
   "metadata": {
    "application/vnd.databricks.v1+cell": {
     "cellMetadata": {
      "byteLimit": 2048000,
      "rowLimit": 10000
     },
     "inputWidgets": {},
     "nuid": "d602c68b-4b2a-4ed2-bc5c-1f9b347dff8f",
     "showTitle": false,
     "title": ""
    }
   },
   "outputs": [],
   "source": [
    "result = cosineSimilarity.sortBy(lambda x: -x[1])"
   ]
  },
  {
   "cell_type": "code",
   "execution_count": null,
   "metadata": {
    "application/vnd.databricks.v1+cell": {
     "cellMetadata": {
      "byteLimit": 2048000,
      "rowLimit": 10000
     },
     "inputWidgets": {},
     "nuid": "93f62045-5710-4e4d-a634-f90396627102",
     "showTitle": false,
     "title": ""
    }
   },
   "outputs": [],
   "source": [
    "resultDF = result.toDF([\"movieId\", \"cosineSimilarity\"])"
   ]
  },
  {
   "cell_type": "code",
   "execution_count": null,
   "metadata": {
    "application/vnd.databricks.v1+cell": {
     "cellMetadata": {
      "byteLimit": 2048000,
      "rowLimit": 10000
     },
     "inputWidgets": {},
     "nuid": "f86b4b93-2df0-4b14-8b65-ffa503dff271",
     "showTitle": false,
     "title": ""
    }
   },
   "outputs": [],
   "source": [
    "finalResult = movieDf.join(resultDF,movieDf.movieId == resultDF.movieId, \"inner\")"
   ]
  },
  {
   "cell_type": "code",
   "execution_count": null,
   "metadata": {
    "application/vnd.databricks.v1+cell": {
     "cellMetadata": {
      "byteLimit": 2048000,
      "rowLimit": 10000
     },
     "inputWidgets": {},
     "nuid": "f9390a7c-cd7b-4fb7-a2ab-ad9d10c32abc",
     "showTitle": false,
     "title": ""
    }
   },
   "outputs": [
    {
     "name": "stdout",
     "output_type": "stream",
     "text": [
      "+---------------------------------------+-------------------+\n",
      "|movieName                              |cosineSimilarity   |\n",
      "+---------------------------------------+-------------------+\n",
      "|Hot Boyz                               |0.3700404386106769 |\n",
      "|Prem Nazirine Kanmanilla               |0.33352119479649256|\n",
      "|Ghulami                                |0.31128479983586255|\n",
      "|Mind Game                              |0.31128479983586255|\n",
      "|Killer Flick                           |0.31128479983586255|\n",
      "|The Kid & I                            |0.2872144686465431 |\n",
      "|Kaadhal Parisu                         |0.2831237762424278 |\n",
      "|Mystery Science Theater 3000: The Movie|0.24661677512878777|\n",
      "|The Last Movie                         |0.24661677512878777|\n",
      "|Wishology                              |0.24246302654905127|\n",
      "+---------------------------------------+-------------------+\n",
      "only showing top 10 rows\n",
      "\n"
     ]
    }
   ],
   "source": [
    "finalResult.select('movieName', 'cosineSimilarity').show(10,False)"
   ]
  },
  {
   "cell_type": "code",
   "execution_count": null,
   "metadata": {
    "application/vnd.databricks.v1+cell": {
     "cellMetadata": {},
     "inputWidgets": {},
     "nuid": "22b021f6-a8ff-425e-ac9b-114db9bdd5f0",
     "showTitle": false,
     "title": ""
    }
   },
   "outputs": [],
   "source": []
  }
 ],
 "metadata": {
  "application/vnd.databricks.v1+notebook": {
   "dashboards": [],
   "language": "python",
   "notebookMetadata": {
    "pythonIndentUnit": 4
   },
   "notebookName": "HW1_Q2",
   "widgets": {}
  },
  "language_info": {
   "name": "python"
  }
 },
 "nbformat": 4,
 "nbformat_minor": 0
}
